{
 "cells": [
  {
   "cell_type": "markdown",
   "id": "95a98d9a",
   "metadata": {},
   "source": [
    "# Data Science Tools and Ecosystem"
   ]
  },
  {
   "cell_type": "markdown",
   "id": "89da4a0b",
   "metadata": {},
   "source": [
    "In this notebook, Data Science Tools and Ecosystem are summarized."
   ]
  },
  {
   "cell_type": "markdown",
   "id": "1845e5a0",
   "metadata": {},
   "source": [
    "__Objectives:__"
   ]
  },
  {
   "cell_type": "markdown",
   "id": "5a2dd4e3",
   "metadata": {},
   "source": [
    "* List popular languages for data science\n",
    "* List commonly used libraries in data science\n",
    "* List development environment open source tools used in data science"
   ]
  },
  {
   "cell_type": "markdown",
   "id": "01cdcf48",
   "metadata": {},
   "source": [
    "Some of the popular languages that Data Scientists use are:"
   ]
  },
  {
   "cell_type": "markdown",
   "id": "5c4ef1e4",
   "metadata": {},
   "source": [
    "1. SQL\n",
    "2. Python\n",
    "3. R"
   ]
  },
  {
   "cell_type": "markdown",
   "id": "543324e3",
   "metadata": {},
   "source": [
    "Some of the commonly used libraries used by Data Scientists include:"
   ]
  },
  {
   "cell_type": "markdown",
   "id": "b9f7869e",
   "metadata": {},
   "source": [
    "1. For Python:\n",
    "       1.1 Pandas\n",
    "       1.2 NumPy\n",
    "       1.3 Scikit-learn\n",
    "2. For R :\n",
    "       2.1 Dplyr\n",
    "       2.2 Tidyr\n",
    "       2.3 Ggplot2"
   ]
  },
  {
   "cell_type": "markdown",
   "id": "127670c1",
   "metadata": {},
   "source": [
    "|Data Science Tools|\n",
    "|------------------|\n",
    "|Jupyter Notebook  |\n",
    "|R-Studio          |\n",
    "|Zeppelin Notebooks|\n"
   ]
  },
  {
   "cell_type": "markdown",
   "id": "03515cb7",
   "metadata": {},
   "source": [
    "### Below are a few examples of evaluating arithmetic expressions in Python"
   ]
  },
  {
   "cell_type": "markdown",
   "id": "e78f2324",
   "metadata": {},
   "source": [
    "This a simple arithmetic expression to mutiply then add integers"
   ]
  },
  {
   "cell_type": "code",
   "execution_count": 2,
   "id": "21d4be67",
   "metadata": {},
   "outputs": [
    {
     "data": {
      "text/plain": [
       "17"
      ]
     },
     "execution_count": 2,
     "metadata": {},
     "output_type": "execute_result"
    }
   ],
   "source": [
    "(3*4)+5"
   ]
  },
  {
   "cell_type": "markdown",
   "id": "b9a49e34",
   "metadata": {},
   "source": [
    "This will convert 200 minutes to hours by diving by 60"
   ]
  },
  {
   "cell_type": "code",
   "execution_count": 3,
   "id": "49d6e05e",
   "metadata": {},
   "outputs": [
    {
     "data": {
      "text/plain": [
       "3.3333333333333335"
      ]
     },
     "execution_count": 3,
     "metadata": {},
     "output_type": "execute_result"
    }
   ],
   "source": [
    "200/60"
   ]
  },
  {
   "cell_type": "markdown",
   "id": "f880849d",
   "metadata": {},
   "source": [
    "## Author"
   ]
  },
  {
   "cell_type": "markdown",
   "id": "151f1030",
   "metadata": {},
   "source": [
    "Rui De Oliveira"
   ]
  }
 ],
 "metadata": {
  "kernelspec": {
   "display_name": "Python 3 (ipykernel)",
   "language": "python",
   "name": "python3"
  },
  "language_info": {
   "codemirror_mode": {
    "name": "ipython",
    "version": 3
   },
   "file_extension": ".py",
   "mimetype": "text/x-python",
   "name": "python",
   "nbconvert_exporter": "python",
   "pygments_lexer": "ipython3",
   "version": "3.9.12"
  }
 },
 "nbformat": 4,
 "nbformat_minor": 5
}
